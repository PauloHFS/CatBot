{
 "cells": [
  {
   "cell_type": "code",
   "execution_count": 45,
   "id": "6170a789",
   "metadata": {},
   "outputs": [],
   "source": [
    "from PIL import Image\n",
    "from io import BytesIO\n",
    "import pyautogui\n",
    "import requests\n",
    "import time"
   ]
  },
  {
   "cell_type": "markdown",
   "id": "48951a27",
   "metadata": {},
   "source": [
    "#### Recebe a imagem da API"
   ]
  },
  {
   "cell_type": "code",
   "execution_count": 46,
   "id": "bbf7ad2f",
   "metadata": {},
   "outputs": [],
   "source": [
    "API_URL = r\"https://thatcopy.pw/catapi/rest/\""
   ]
  },
  {
   "cell_type": "markdown",
   "id": "9fee1751",
   "metadata": {},
   "source": [
    "Get - API_URL\n",
    "```json\n",
    "{\n",
    "  \"id\": 21, // A unique id for the photo\n",
    "  \"url\": \"https://i.thatcopy.pw/cat/Nprmx6Y.jpg\", // A url to the raw photo, around 1-4mB\n",
    "  \"webpurl\": \"https://i.thatcopy.pw/cat-webp/Nprmx6Y.webp\", // A url to a compressed photo, around 50-100kB\n",
    "  \"x\": 47.22, // Focalpoint\n",
    "  \"y\": 51.48 // Focalpoint\n",
    "}\n",
    "```"
   ]
  },
  {
   "cell_type": "code",
   "execution_count": 47,
   "id": "23ae6a21",
   "metadata": {},
   "outputs": [
    {
     "name": "stdout",
     "output_type": "stream",
     "text": [
      "200 OK - the request was fulfilled.\n",
      "https://i.thatcopy.pw/cat/9z0QFsA.jpg\n",
      "200 OK - the request was fulfilled.\n"
     ]
    }
   ],
   "source": [
    "response = requests.get(API_URL)\n",
    "if response.status_code == 200:\n",
    "    print(f\"{response.status_code} OK - the request was fulfilled.\")\n",
    "    IMG_URL = response.json()[\"url\"]\n",
    "    print(IMG_URL)\n",
    "    \n",
    "    response = requests.get(IMG_URL)\n",
    "    if (response.status_code == 200):\n",
    "        print(f\"{response.status_code} OK - the request was fulfilled.\")\n",
    "        with open(\"cat.jpg\", \"wb\") as image:\n",
    "            image.write(response.content)"
   ]
  },
  {
   "cell_type": "code",
   "execution_count": null,
   "id": "6b6409da",
   "metadata": {},
   "outputs": [],
   "source": [
    "# Automatizar o envio para o WhatsApp"
   ]
  },
  {
   "cell_type": "code",
   "execution_count": 53,
   "id": "ecba7c85",
   "metadata": {},
   "outputs": [],
   "source": [
    "pyautogui.PAUSE = 1\n",
    "\n",
    "pyautogui.hotkey(\"ctrl\", \"t\")\n",
    "pyautogui.write(\"http://web.whatsapp.com/\")\n",
    "pyautogui.press(\"enter\")\n",
    "time.sleep(5)\n",
    "pyautogui.hotkey(\"ctrl\", \"alt\", \"/\")\n",
    "pyautogui.write(\"Ana Paula\") #nome do contato\n",
    "pyautogui.press(\"tab\")\n",
    "pyautogui.press(\"enter\")"
   ]
  },
  {
   "cell_type": "code",
   "execution_count": null,
   "id": "e7f1be1f",
   "metadata": {},
   "outputs": [],
   "source": []
  }
 ],
 "metadata": {
  "kernelspec": {
   "display_name": "Python 3",
   "language": "python",
   "name": "python3"
  },
  "language_info": {
   "codemirror_mode": {
    "name": "ipython",
    "version": 3
   },
   "file_extension": ".py",
   "mimetype": "text/x-python",
   "name": "python",
   "nbconvert_exporter": "python",
   "pygments_lexer": "ipython3",
   "version": "3.8.8"
  }
 },
 "nbformat": 4,
 "nbformat_minor": 5
}
