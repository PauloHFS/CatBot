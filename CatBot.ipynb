{
 "cells": [
  {
   "cell_type": "code",
   "execution_count": 5,
   "source": [
    "from PIL import Image\n",
    "from io import BytesIO\n",
    "import pyautogui\n",
    "import pygetwindow as gw\n",
    "\n",
    "import pyperclip\n",
    "\n",
    "import requests\n",
    "import time\n"
   ],
   "outputs": [],
   "metadata": {}
  },
  {
   "cell_type": "code",
   "execution_count": 10,
   "source": [
    "# Config User\n",
    "# Carregar configurações de um arquivo de texto.\n",
    "contact_name = \"Ana Paula\" # Coloque aqui o nome do contato\n",
    "API_URL = r\"https://thatcopy.pw/catapi/rest/\"\n",
    "\n",
    "# Config\n",
    "pyautogui.PAUSE = 1"
   ],
   "outputs": [],
   "metadata": {}
  },
  {
   "cell_type": "markdown",
   "source": [
    "#### Recebe a imagem da API"
   ],
   "metadata": {}
  },
  {
   "cell_type": "markdown",
   "source": [
    "Get - API_URL\n",
    "```json\n",
    "{\n",
    "  \"id\": 21, // A unique id for the photo\n",
    "  \"url\": \"https://i.thatcopy.pw/cat/Nprmx6Y.jpg\", // A url to the raw photo, around 1-4mB\n",
    "  \"webpurl\": \"https://i.thatcopy.pw/cat-webp/Nprmx6Y.webp\", // A url to a compressed photo, around 50-100kB\n",
    "  \"x\": 47.22, // Focalpoint\n",
    "  \"y\": 51.48 // Focalpoint\n",
    "}\n",
    "```"
   ],
   "metadata": {}
  },
  {
   "cell_type": "code",
   "execution_count": 7,
   "source": [
    "def getCatImage(api_url):\n",
    "    response = requests.get(api_url)\n",
    "    if response.status_code == 200:\n",
    "        print(f\"{response.status_code} OK - the request was fulfilled.\")\n",
    "        IMG_URL = response.json()[\"url\"]\n",
    "        print(IMG_URL)\n",
    "\n",
    "        response = requests.get(IMG_URL)\n",
    "        if (response.status_code == 200):\n",
    "            print(f\"{response.status_code} OK - the request was fulfilled.\")\n",
    "            with open(\"cat.jpg\", \"wb\") as image:\n",
    "                image.write(response.content)\n",
    "                print(\"New Image Save as (cat.jpg)\")\n"
   ],
   "outputs": [],
   "metadata": {}
  },
  {
   "cell_type": "code",
   "execution_count": 9,
   "source": [
    "# 1° Garantir que o WA está aberto\n",
    "\n",
    "janelasAbertasTitles = gw.getAllTitles()\n",
    "\n",
    "WhatsAppWindowTitle = None\n",
    "# Procura WhatsApp entre as janelas abertas\n",
    "for janelaTitle in janelasAbertasTitles:\n",
    "    if \"WhatsApp\" in janelaTitle:\n",
    "        WhatsAppWindowTitle = janelaTitle\n",
    "        break\n",
    "\n",
    "# Se a janela estiver aberta a variavel não sera vazia\n",
    "if WhatsAppWindowTitle != None:\n",
    "    WhatsAppWindow = gw.getWindowsWithTitle(WhatsAppWindowTitle)[0]\n",
    "    WhatsAppWindow.activate()\n",
    "\n",
    "# 2° Enviar a imagem\n",
    "    pyautogui.hotkey(\"ctrl\", \"alt\", \"/\")\n",
    "    pyautogui.write(contact_name)\n",
    "    pyautogui.press(\"tab\")\n",
    "    pyautogui.press(\"enter\")\n",
    "\n",
    "    # TODO: Adicionar controle de repetição de envio\n",
    "\n",
    "    # TODO: Receber imagem da api [getCatImage(API_URL)]\n",
    "    # TODO: Carregar a imagem no clipboard\n",
    "    # TODO: colar imagem e apertar enter\n",
    "\n",
    "    # Mensagem a ser enviada junto da imagem.\n",
    "    pyautogui.write(\n",
    "        \"Mensagem enviada pelo CatBot: https://github.com/PauloHFS/CatBot\")\n",
    "    # pyautogui.press(\"enter\")\n",
    "\n",
    "    print(\"END\")\n",
    "\n",
    "else:\n",
    "    pyautogui.alert(\"WhatsApp não está aberto em uma nova janela!\",\n",
    "                    title=\"CatBot - Error\", button=\"Encerrar Bot\")\n"
   ],
   "outputs": [
    {
     "output_type": "stream",
     "name": "stdout",
     "text": [
      "END\n"
     ]
    }
   ],
   "metadata": {
    "scrolled": true
   }
  }
 ],
 "metadata": {
  "kernelspec": {
   "display_name": "Python 3",
   "language": "python",
   "name": "python3"
  },
  "language_info": {
   "codemirror_mode": {
    "name": "ipython",
    "version": 3
   },
   "file_extension": ".py",
   "mimetype": "text/x-python",
   "name": "python",
   "nbconvert_exporter": "python",
   "pygments_lexer": "ipython3",
   "version": "3.8.8"
  }
 },
 "nbformat": 4,
 "nbformat_minor": 5
}